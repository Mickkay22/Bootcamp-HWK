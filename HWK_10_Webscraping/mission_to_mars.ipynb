{
 "cells": [
  {
   "cell_type": "code",
   "execution_count": 1,
   "metadata": {},
   "outputs": [],
   "source": [
    "from bs4 import BeautifulSoup as bs\n",
    "from splinter import Browser \n",
    "import requests\n",
    "import pandas as pd\n",
    "\n",
    "executable_path = {'executable_path': 'chromedriver.exe'}\n",
    "browser = Browser('chrome', **executable_path, headless=False)"
   ]
  },
  {
   "cell_type": "code",
   "execution_count": 2,
   "metadata": {},
   "outputs": [],
   "source": [
    "# PART 1\n",
    "# Scrape the [NASA Mars News Site](https://mars.nasa.gov/news/) and collect the\n",
    "#  latest News Title and Paragraph Text. Assign the text to variables that you can reference later.\n",
    "url1 = \"https://mars.nasa.gov/news/\" \n",
    "browser.visit(url1)\n",
    "html = browser.html\n",
    "soup = bs(html, 'html.parser')"
   ]
  },
  {
   "cell_type": "code",
   "execution_count": 3,
   "metadata": {},
   "outputs": [
    {
     "name": "stdout",
     "output_type": "stream",
     "text": [
      "\n",
      "NASA Garners 7 Webby Award Nominations\n",
      "\n",
      "\n",
      "Nominees include four JPL projects: the solar system and climate websites, InSight social media, and a 360-degree Earth video. Public voting closes April 18, 2019.\n",
      "\n"
     ]
    }
   ],
   "source": [
    "Article_Title = soup.find_all('div',class_=\"content_title\")[0].a.text\n",
    "print(Article_Title)\n",
    "\n",
    "Article_Text = soup.find_all('div',class_=\"rollover_description_inner\")[0].text\n",
    "print(Article_Text)"
   ]
  },
  {
   "cell_type": "code",
   "execution_count": 4,
   "metadata": {},
   "outputs": [
    {
     "name": "stdout",
     "output_type": "stream",
     "text": [
      "https://www.jpl.nasa.gov/spaceimages/images/mediumsize/PIA17924_ip.jpg\n"
     ]
    }
   ],
   "source": [
    "# PART 2\n",
    "\n",
    "#Visit the url for JPL Featured Space Image [here](https://www.jpl.nasa.gov/spaceimages/?search=&category=Mars).\n",
    "# Use splinter to navigate the site and find the image url for the current Featured\n",
    "#  Mars Image and assign the url string to a variable called `featured_image_url`.\n",
    "# Make sure to find the image url to the full size `.jpg` image.\n",
    "# Make sure to save a complete url string for this image.\n",
    "#SPLINTER \n",
    "url2 = 'https://www.jpl.nasa.gov/spaceimages/?search=&category=Mars'\n",
    "browser.visit(url2)\n",
    "html = browser.html\n",
    "soup2 = bs(html, 'html.parser')\n",
    "#Finding the image url and creating the full url for this image\n",
    "featured_image_url = 'https://www.jpl.nasa.gov' + soup2.body.find_all('div',class_=\"default floating_text_area ms-layer\")[0].footer.a['data-fancybox-href']\n",
    "#printing the url\n",
    "print(featured_image_url)"
   ]
  },
  {
   "cell_type": "code",
   "execution_count": 5,
   "metadata": {},
   "outputs": [
    {
     "name": "stdout",
     "output_type": "stream",
     "text": [
      "InSight sol 344 (2019-11-15) low -99.9ºC (-147.9ºF) high -23.3ºC (-9.9ºF)\n",
      "winds from the SSE at 5.7 m/s (12.9 mph) gusting to 18.9 m/s (42.3 mph)\n",
      "pressure at 6.80 hPa\n"
     ]
    }
   ],
   "source": [
    "# Visit the Mars Weather twitter account [here](https://twitter.com/marswxreport?lang=en)\n",
    "#  and scrape the latest Mars weather tweet from the page. Save the tweet text for the\n",
    "#  weather report as a variable called `mars_weather`.\n",
    "url3 = 'https://twitter.com/marswxreport?lang=ens'\n",
    "browser.visit(url3)\n",
    "html = browser.html\n",
    "soup3 = bs(html, 'html.parser')\n",
    "#how can I do this with out using split....\n",
    "mars_weather = soup3.body.find_all('div', class_= \"js-tweet-text-container\")[0].p.text.split(\"pic\")[0]\n",
    "#print mars_weather\n",
    "print(mars_weather)"
   ]
  },
  {
   "cell_type": "code",
   "execution_count": 6,
   "metadata": {},
   "outputs": [
    {
     "data": {
      "text/html": [
       "<div>\n",
       "<style scoped>\n",
       "    .dataframe tbody tr th:only-of-type {\n",
       "        vertical-align: middle;\n",
       "    }\n",
       "\n",
       "    .dataframe tbody tr th {\n",
       "        vertical-align: top;\n",
       "    }\n",
       "\n",
       "    .dataframe thead th {\n",
       "        text-align: right;\n",
       "    }\n",
       "</style>\n",
       "<table border=\"1\" class=\"dataframe\">\n",
       "  <thead>\n",
       "    <tr style=\"text-align: right;\">\n",
       "      <th></th>\n",
       "      <th>Characteristics</th>\n",
       "      <th>Value</th>\n",
       "    </tr>\n",
       "  </thead>\n",
       "  <tbody>\n",
       "    <tr>\n",
       "      <th>0</th>\n",
       "      <td>Equatorial Diameter:</td>\n",
       "      <td>6,792 km</td>\n",
       "    </tr>\n",
       "    <tr>\n",
       "      <th>1</th>\n",
       "      <td>Polar Diameter:</td>\n",
       "      <td>6,752 km</td>\n",
       "    </tr>\n",
       "    <tr>\n",
       "      <th>2</th>\n",
       "      <td>Mass:</td>\n",
       "      <td>6.39 × 10^23 kg (0.11 Earths)</td>\n",
       "    </tr>\n",
       "    <tr>\n",
       "      <th>3</th>\n",
       "      <td>Moons:</td>\n",
       "      <td>2 (Phobos &amp; Deimos)</td>\n",
       "    </tr>\n",
       "    <tr>\n",
       "      <th>4</th>\n",
       "      <td>Orbit Distance:</td>\n",
       "      <td>227,943,824 km (1.38 AU)</td>\n",
       "    </tr>\n",
       "  </tbody>\n",
       "</table>\n",
       "</div>"
      ],
      "text/plain": [
       "        Characteristics                          Value\n",
       "0  Equatorial Diameter:                       6,792 km\n",
       "1       Polar Diameter:                       6,752 km\n",
       "2                 Mass:  6.39 × 10^23 kg (0.11 Earths)\n",
       "3                Moons:            2 (Phobos & Deimos)\n",
       "4       Orbit Distance:       227,943,824 km (1.38 AU)"
      ]
     },
     "execution_count": 6,
     "metadata": {},
     "output_type": "execute_result"
    }
   ],
   "source": [
    "# Visit the Mars Facts webpage [here](https://space-facts.com/mars/) and use Pandas to scrape\n",
    "#  the table containing facts about the planet including Diameter, Mass, etc.\n",
    "url4 = 'https://space-facts.com/mars'\n",
    "#  Use Pandas to convert the data to a HTML table string.\n",
    "Mars_Facts = pd.read_html(url4)[0]\n",
    "# Re-name columns\n",
    "Mars_Facts.columns = ['Characteristics','Value']\n",
    "# Show Mars Facts Table\n",
    "Mars_Facts.head()"
   ]
  },
  {
   "cell_type": "code",
   "execution_count": 8,
   "metadata": {},
   "outputs": [
    {
     "name": "stdout",
     "output_type": "stream",
     "text": [
      "[{'img_url': 'http://astropedia.astrogeology.usgs.gov/download/Mars/Viking/cerberus_enhanced.tif/full.jpg', 'title': 'Cerberus Hemisphere Enhanced'}, {'img_url': 'http://astropedia.astrogeology.usgs.gov/download/Mars/Viking/schiaparelli_enhanced.tif/full.jpg', 'title': 'Schiaparelli Hemisphere Enhanced'}, {'img_url': 'http://astropedia.astrogeology.usgs.gov/download/Mars/Viking/syrtis_major_enhanced.tif/full.jpg', 'title': 'Syrtis Major Hemisphere Enhanced'}, {'img_url': 'http://astropedia.astrogeology.usgs.gov/download/Mars/Viking/valles_marineris_enhanced.tif/full.jpg', 'title': 'Valles Marineris Hemisphere Enhanced'}]\n"
     ]
    }
   ],
   "source": [
    "#Visit the USGS Astrogeology site [here](https://astrogeology.usgs.gov/search/results?q=hemisphere+enhanced&k1=target&v1=Mars)\n",
    "#  to obtain high resolution images for each of Mar's hemispheres.\n",
    "url5 = 'https://astrogeology.usgs.gov/search/results?q=hemisphere+enhanced&k1=target&v1=Mars'\n",
    "browser.visit(url5)\n",
    "html = browser.html\n",
    "soup5 = bs(html, 'html.parser')\n",
    "#You will need to click each of the links to the hemispheres in order to \n",
    "#  find the image url to the full resolution image.\n",
    "USGS_images = soup5.find_all('div', class_= \"item\")\n",
    "Mars_list_dic = []\n",
    "for i in USGS_images:\n",
    "    url = 'https://astrogeology.usgs.gov'+ i.a['href']\n",
    "    browser.visit(url)\n",
    "    html = browser.html\n",
    "    soup = bs(html, 'html.parser')\n",
    "    Mars_list_dic.append({'img_url':soup.find_all('li')[0].a['href'],'title':soup.find_all('h2', class_='title')[0].text})\n",
    "\n",
    "    \n",
    "print(Mars_list_dic)\n",
    "#Save both the image url string for the full resolution hemisphere image, and \n",
    "#  the Hemisphere title containing the hemisphere name. Use a Python dictionary to \n",
    "#  store the data using the keys `img_url` and `title`.\n",
    "\n",
    "#Append the dictionary with the image url string and the hemisphere title to a \n",
    "#  list. This list will contain one dictionary for each hemisphere."
   ]
  },
  {
   "cell_type": "code",
   "execution_count": null,
   "metadata": {},
   "outputs": [],
   "source": []
  }
 ],
 "metadata": {
  "kernelspec": {
   "display_name": "Python 3",
   "language": "python",
   "name": "python3"
  },
  "language_info": {
   "codemirror_mode": {
    "name": "ipython",
    "version": 3
   },
   "file_extension": ".py",
   "mimetype": "text/x-python",
   "name": "python",
   "nbconvert_exporter": "python",
   "pygments_lexer": "ipython3",
   "version": "3.7.3"
  }
 },
 "nbformat": 4,
 "nbformat_minor": 2
}
